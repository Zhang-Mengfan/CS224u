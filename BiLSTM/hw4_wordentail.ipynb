{
 "cells": [
  {
   "cell_type": "markdown",
   "metadata": {},
   "source": [
    "# Homework 4: Word-level entailment with neural networks"
   ]
  },
  {
   "cell_type": "code",
   "execution_count": 1,
   "metadata": {},
   "outputs": [],
   "source": [
    "__author__ = \"Christopher Potts\"\n",
    "__version__ = \"CS224u, Stanford, Spring 2019\""
   ]
  },
  {
   "cell_type": "markdown",
   "metadata": {},
   "source": [
    "## Contents\n",
    "\n",
    "1. [Overview](#Overview)\n",
    "1. [Set-up](#Set-up)\n",
    "1. [Data](#Data)\n",
    "  1. [Edge disjoint](#Edge-disjoint)\n",
    "  1. [Word disjoint](#Word-disjoint)\n",
    "1. [Baseline](#Baseline)\n",
    "  1. [Representing words: vector_func](#Representing-words:-vector_func)\n",
    "  1. [Combining words into inputs: vector_combo_func](#Combining-words-into-inputs:-vector_combo_func)\n",
    "  1. [Classifier model](#Classifier-model)\n",
    "  1. [Baseline results](#Baseline-results)\n",
    "1. [Homework questions](#Homework-questions)\n",
    "  1. [Hypothesis-only baseline [2 points]](#Hypothesis-only-baseline-[2-points])\n",
    "  1. [Alternatives to concatenation [1 point]](#Alternatives-to-concatenation-[1-point])\n",
    "  1. [A deeper network [2 points]](#A-deeper-network-[2-points])\n",
    "  1. [Your original system [4 points]](#Your-original-system-[4-points])\n",
    "1. [Bake-off [1 point]](#Bake-off-[1-point])"
   ]
  },
  {
   "cell_type": "markdown",
   "metadata": {},
   "source": [
    "## Overview"
   ]
  },
  {
   "cell_type": "markdown",
   "metadata": {},
   "source": [
    "The general problem is word-level natural language inference.\n",
    "\n",
    "Training examples are pairs of words $(w_{L}, w_{R}), y$ with $y = 1$ if $w_{L}$ entails $w_{R}$, otherwise $0$.\n",
    "\n",
    "The homework questions below ask you to define baseline models for this and develop your own system for entry in the bake-off, which will take place on a held-out test-set distributed at the start of the bake-off. (Thus, all the data you have available for development is available for training your final system before the bake-off begins.)\n",
    "\n",
    "<img src=\"fig/wordentail-diagram.png\" width=600 alt=\"wordentail-diagram.png\" />"
   ]
  },
  {
   "cell_type": "markdown",
   "metadata": {},
   "source": [
    "## Set-up"
   ]
  },
  {
   "cell_type": "markdown",
   "metadata": {},
   "source": [
    "See [the first notebook in this unit](nli_01_task_and_data.ipynb) for set-up instructions."
   ]
  },
  {
   "cell_type": "code",
   "execution_count": 1,
   "metadata": {},
   "outputs": [],
   "source": [
    "from collections import defaultdict\n",
    "import json\n",
    "import numpy as np\n",
    "import os\n",
    "import pandas as pd\n",
    "from torch_shallow_neural_classifier import TorchShallowNeuralClassifier\n",
    "import nli\n",
    "import utils"
   ]
  },
  {
   "cell_type": "code",
   "execution_count": 2,
   "metadata": {},
   "outputs": [],
   "source": [
    "DATA_HOME = 'data'\n",
    "\n",
    "NLIDATA_HOME = os.path.join(DATA_HOME, 'nlidata')\n",
    "\n",
    "wordentail_filename = os.path.join(\n",
    "    NLIDATA_HOME, 'nli_wordentail_bakeoff_data.json')\n",
    "\n",
    "GLOVE_HOME = os.path.join(DATA_HOME, 'glove.6B')"
   ]
  },
  {
   "cell_type": "markdown",
   "metadata": {},
   "source": [
    "## Data\n",
    "\n",
    "I've processed the data into two different train/test splits, in an effort to put some pressure on our models to actually learn these semantic relations, as opposed to exploiting regularities in the sample.\n",
    "\n",
    "* `edge_disjoint`: The `train` and `dev` __edge__ sets are disjoint, but many __words__ appear in both `train` and `dev`.\n",
    "* `word_disjoint`: The `train` and `dev` __vocabularies are disjoint__, and thus the edges are disjoint as well.\n",
    "\n",
    "These are very different problems. For `word_disjoint`, there is real pressure on the model to learn abstract relationships, as opposed to memorizing properties of individual words."
   ]
  },
  {
   "cell_type": "code",
   "execution_count": 3,
   "metadata": {},
   "outputs": [],
   "source": [
    "with open(wordentail_filename) as f:\n",
    "    wordentail_data = json.load(f)"
   ]
  },
  {
   "cell_type": "markdown",
   "metadata": {},
   "source": [
    "The outer keys are the  splits plus a list giving the vocabulary for the entire dataset:"
   ]
  },
  {
   "cell_type": "code",
   "execution_count": 4,
   "metadata": {},
   "outputs": [
    {
     "data": {
      "text/plain": [
       "dict_keys(['edge_disjoint', 'vocab', 'word_disjoint'])"
      ]
     },
     "execution_count": 4,
     "metadata": {},
     "output_type": "execute_result"
    }
   ],
   "source": [
    "wordentail_data.keys()"
   ]
  },
  {
   "cell_type": "markdown",
   "metadata": {},
   "source": [
    "### Edge disjoint"
   ]
  },
  {
   "cell_type": "code",
   "execution_count": 5,
   "metadata": {},
   "outputs": [
    {
     "data": {
      "text/plain": [
       "dict_keys(['dev', 'train'])"
      ]
     },
     "execution_count": 5,
     "metadata": {},
     "output_type": "execute_result"
    }
   ],
   "source": [
    "wordentail_data['edge_disjoint'].keys()"
   ]
  },
  {
   "cell_type": "markdown",
   "metadata": {},
   "source": [
    "This is what the split looks like; all three have this same format:"
   ]
  },
  {
   "cell_type": "code",
   "execution_count": 6,
   "metadata": {},
   "outputs": [
    {
     "data": {
      "text/plain": [
       "[[['sweater', 'stroke'], 0],\n",
       " [['constipation', 'hypovolemia'], 0],\n",
       " [['disease', 'inflammation'], 0],\n",
       " [['herring', 'animal'], 1],\n",
       " [['cauliflower', 'outlook'], 0]]"
      ]
     },
     "execution_count": 6,
     "metadata": {},
     "output_type": "execute_result"
    }
   ],
   "source": [
    "wordentail_data['edge_disjoint']['dev'][: 5]"
   ]
  },
  {
   "cell_type": "markdown",
   "metadata": {},
   "source": [
    "Let's test to make sure no edges are shared between `train` and `dev`:"
   ]
  },
  {
   "cell_type": "code",
   "execution_count": 7,
   "metadata": {},
   "outputs": [
    {
     "data": {
      "text/plain": [
       "0"
      ]
     },
     "execution_count": 7,
     "metadata": {},
     "output_type": "execute_result"
    }
   ],
   "source": [
    "nli.get_edge_overlap_size(wordentail_data, 'edge_disjoint')"
   ]
  },
  {
   "cell_type": "markdown",
   "metadata": {},
   "source": [
    "As we expect, a *lot* of vocabulary items are shared between `train` and `dev`:"
   ]
  },
  {
   "cell_type": "code",
   "execution_count": 8,
   "metadata": {},
   "outputs": [
    {
     "data": {
      "text/plain": [
       "2916"
      ]
     },
     "execution_count": 8,
     "metadata": {},
     "output_type": "execute_result"
    }
   ],
   "source": [
    "nli.get_vocab_overlap_size(wordentail_data, 'edge_disjoint')"
   ]
  },
  {
   "cell_type": "markdown",
   "metadata": {},
   "source": [
    "This is a large percentage of the entire vocab:"
   ]
  },
  {
   "cell_type": "code",
   "execution_count": 9,
   "metadata": {},
   "outputs": [
    {
     "data": {
      "text/plain": [
       "8470"
      ]
     },
     "execution_count": 9,
     "metadata": {},
     "output_type": "execute_result"
    }
   ],
   "source": [
    "len(wordentail_data['vocab'])"
   ]
  },
  {
   "cell_type": "markdown",
   "metadata": {},
   "source": [
    "Here's the distribution of labels in the `train` set. It's highly imbalanced, which will pose a challenge for learning. (I'll go ahead and reveal that the `dev` set is similarly distributed.)"
   ]
  },
  {
   "cell_type": "code",
   "execution_count": 10,
   "metadata": {},
   "outputs": [],
   "source": [
    "def label_distribution(split):\n",
    "    return pd.DataFrame(wordentail_data[split]['train'])[1].value_counts()"
   ]
  },
  {
   "cell_type": "code",
   "execution_count": 11,
   "metadata": {},
   "outputs": [
    {
     "data": {
      "text/plain": [
       "0    14650\n",
       "1     2745\n",
       "Name: 1, dtype: int64"
      ]
     },
     "execution_count": 11,
     "metadata": {},
     "output_type": "execute_result"
    }
   ],
   "source": [
    "label_distribution('edge_disjoint')"
   ]
  },
  {
   "cell_type": "markdown",
   "metadata": {},
   "source": [
    "### Word disjoint"
   ]
  },
  {
   "cell_type": "code",
   "execution_count": 12,
   "metadata": {},
   "outputs": [
    {
     "data": {
      "text/plain": [
       "dict_keys(['dev', 'train'])"
      ]
     },
     "execution_count": 12,
     "metadata": {},
     "output_type": "execute_result"
    }
   ],
   "source": [
    "wordentail_data['word_disjoint'].keys()"
   ]
  },
  {
   "cell_type": "markdown",
   "metadata": {},
   "source": [
    "In the `word_disjoint` split, no __words__ are shared between `train` and `dev`:"
   ]
  },
  {
   "cell_type": "code",
   "execution_count": 13,
   "metadata": {},
   "outputs": [
    {
     "data": {
      "text/plain": [
       "0"
      ]
     },
     "execution_count": 13,
     "metadata": {},
     "output_type": "execute_result"
    }
   ],
   "source": [
    "nli.get_vocab_overlap_size(wordentail_data, 'word_disjoint')"
   ]
  },
  {
   "cell_type": "markdown",
   "metadata": {},
   "source": [
    "Because no words are shared between `train` and `dev`, no edges are either:"
   ]
  },
  {
   "cell_type": "code",
   "execution_count": 14,
   "metadata": {},
   "outputs": [
    {
     "data": {
      "text/plain": [
       "0"
      ]
     },
     "execution_count": 14,
     "metadata": {},
     "output_type": "execute_result"
    }
   ],
   "source": [
    "nli.get_edge_overlap_size(wordentail_data, 'word_disjoint')"
   ]
  },
  {
   "cell_type": "markdown",
   "metadata": {},
   "source": [
    "The label distribution is similar to that of `edge_disjoint`, though the overall number of examples is a bit smaller:"
   ]
  },
  {
   "cell_type": "code",
   "execution_count": 15,
   "metadata": {},
   "outputs": [
    {
     "data": {
      "text/plain": [
       "0    7199\n",
       "1    1349\n",
       "Name: 1, dtype: int64"
      ]
     },
     "execution_count": 15,
     "metadata": {},
     "output_type": "execute_result"
    }
   ],
   "source": [
    "label_distribution('word_disjoint')"
   ]
  },
  {
   "cell_type": "markdown",
   "metadata": {},
   "source": [
    "## Baseline"
   ]
  },
  {
   "cell_type": "markdown",
   "metadata": {},
   "source": [
    "Even in deep learning, __feature representation is vital and requires care!__ For our task, feature representation has two parts: representing the individual words and combining those representations into a single network input."
   ]
  },
  {
   "cell_type": "markdown",
   "metadata": {},
   "source": [
    "### Representing words: vector_func"
   ]
  },
  {
   "cell_type": "markdown",
   "metadata": {},
   "source": [
    "Let's consider two baseline word representations methods:\n",
    "\n",
    "1. Random vectors (as returned by `utils.randvec`).\n",
    "1. 50-dimensional GloVe representations."
   ]
  },
  {
   "cell_type": "code",
   "execution_count": 16,
   "metadata": {},
   "outputs": [],
   "source": [
    "def randvec(w, n=50, lower=-1.0, upper=1.0):\n",
    "    \"\"\"Returns a random vector of length `n`. `w` is ignored.\"\"\"\n",
    "    return utils.randvec(n=n, lower=lower, upper=upper)"
   ]
  },
  {
   "cell_type": "code",
   "execution_count": 17,
   "metadata": {},
   "outputs": [],
   "source": [
    "# Any of the files in glove.6B will work here:\n",
    "\n",
    "glove_dim = 50\n",
    "\n",
    "glove_src = os.path.join(GLOVE_HOME, 'glove.6B.{}d.txt'.format(glove_dim))\n",
    "\n",
    "# Creates a dict mapping strings (words) to GloVe vectors:\n",
    "GLOVE = utils.glove2dict(glove_src)\n",
    "\n",
    "def glove_vec(w):    \n",
    "    \"\"\"Return `w`'s GloVe representation if available, else return \n",
    "    a random vector.\"\"\"\n",
    "    return GLOVE.get(w, randvec(w, n=glove_dim))"
   ]
  },
  {
   "cell_type": "markdown",
   "metadata": {},
   "source": [
    "### Combining words into inputs: vector_combo_func"
   ]
  },
  {
   "cell_type": "markdown",
   "metadata": {},
   "source": [
    "Here we decide how to combine the two word vectors into a single representation. In more detail, where `u` is a vector representation of the left word and `v` is a vector representation of the right word, we need a function `vector_combo_func` such that `vector_combo_func(u, v)` returns a new input vector `z` of dimension `m`. A simple example is concatenation:"
   ]
  },
  {
   "cell_type": "code",
   "execution_count": 18,
   "metadata": {},
   "outputs": [],
   "source": [
    "def vec_concatenate(u, v):\n",
    "    \"\"\"Concatenate np.array instances `u` and `v` into a new np.array\"\"\"\n",
    "    return np.concatenate((u, v))"
   ]
  },
  {
   "cell_type": "markdown",
   "metadata": {},
   "source": [
    "`vector_combo_func` could instead be vector average, vector difference, etc. (even combinations of those) – there's lots of space for experimentation here; [homework question 2](#Alternatives-to-concatenation-[1-point]) below pushes you to do some exploration."
   ]
  },
  {
   "cell_type": "markdown",
   "metadata": {},
   "source": [
    "### Classifier model\n",
    "\n",
    "For a baseline model, I chose `TorchShallowNeuralClassifier`:"
   ]
  },
  {
   "cell_type": "code",
   "execution_count": 19,
   "metadata": {},
   "outputs": [],
   "source": [
    "net = TorchShallowNeuralClassifier(hidden_dim=50, max_iter=100)"
   ]
  },
  {
   "cell_type": "markdown",
   "metadata": {},
   "source": [
    "### Baseline results\n",
    "\n",
    "The following puts the above pieces together, using `vector_func=glove_vec`, since `vector_func=randvec` seems so hopelessly misguided for `word_disjoint`!"
   ]
  },
  {
   "cell_type": "code",
   "execution_count": 20,
   "metadata": {},
   "outputs": [
    {
     "name": "stderr",
     "output_type": "stream",
     "text": [
      "Finished epoch 100 of 100; error is 0.025328553980216384"
     ]
    },
    {
     "name": "stdout",
     "output_type": "stream",
     "text": [
      "              precision    recall  f1-score   support\n",
      "\n",
      "           0       0.93      0.93      0.93      1910\n",
      "           1       0.43      0.41      0.42       239\n",
      "\n",
      "   micro avg       0.87      0.87      0.87      2149\n",
      "   macro avg       0.68      0.67      0.68      2149\n",
      "weighted avg       0.87      0.87      0.87      2149\n",
      "\n"
     ]
    }
   ],
   "source": [
    "word_disjoint_experiment = nli.wordentail_experiment(\n",
    "    train_data=wordentail_data['word_disjoint']['train'],\n",
    "    assess_data=wordentail_data['word_disjoint']['dev'], \n",
    "    model=net, \n",
    "    vector_func=glove_vec,\n",
    "    vector_combo_func=vec_concatenate)"
   ]
  },
  {
   "cell_type": "markdown",
   "metadata": {},
   "source": [
    "## Homework questions\n",
    "\n",
    "Please embed your homework responses in this notebook, and do not delete any cells from the notebook. (You are free to add as many cells as you like as part of your responses.)"
   ]
  },
  {
   "cell_type": "markdown",
   "metadata": {},
   "source": [
    "### Hypothesis-only baseline [2 points]\n",
    "\n",
    "During our discussion of SNLI and MultiNLI, we noted that a number of research teams have shown that hypothesis-only baselines for inference tasks can be remarkably robust. This question asks you to explore briefly how this baseline effects the 'edge_disjoint' and 'word_disjoint' versions of our task.\n",
    "\n",
    "For this problem, submit code the following:\n",
    "\n",
    "1. A `vector_combo_func` function called `hypothesis_only` that simply throws away the premise, using the unmodified hypothesis (second) vector as its representation of the example.\n",
    "\n",
    "1. Code for looping over the two conditions 'word_disjoint' and 'edge_disjoint' and the two `vector_combo_func` values `vec_concatenate` and `hypothesis_only`, calling `nli.wordentail_experiment` to train on the conditions 'train' portion and assess on its 'dev' portion, with `glove50vec` as the `vector_func`. So that the results are consistent, use an `sklearn.linear_model.LogisticRegression` with default parameters as the model.\n",
    "\n",
    "1. Print out the percentage-wise increase in macro-F1 over the `hypothesis_only` delivers over `vec_concatenate` for each of the two conditions. For example, if `hypothesis_only` returns 0.5 for condition `C` and  `vec_concatenate` delivers 0.75 for `C`, then you'd report a 50% increase for `C`. The values you need are stored in the dictionary returned by `nli.wordentail_experiment`, with key 'macro-F1'. Please use two digits of precision for the increases."
   ]
  },
  {
   "cell_type": "code",
   "execution_count": 32,
   "metadata": {},
   "outputs": [
    {
     "name": "stdout",
     "output_type": "stream",
     "text": [
      "EDGE_DISJOINT\n",
      "Experiment for edge_disjoint challenge and function vec_concatenate:\n",
      "              precision    recall  f1-score   support\n",
      "\n",
      "           0       0.88      0.97      0.92      7376\n",
      "           1       0.59      0.23      0.33      1321\n",
      "\n",
      "   micro avg       0.86      0.86      0.86      8697\n",
      "   macro avg       0.73      0.60      0.63      8697\n",
      "weighted avg       0.83      0.86      0.83      8697\n",
      "\n",
      "--------------------------------------------------------------------------------\n",
      "Experiment for edge_disjoint challenge and function hypothesis_only:\n",
      "              precision    recall  f1-score   support\n",
      "\n",
      "           0       0.87      0.98      0.92      7376\n",
      "           1       0.59      0.20      0.29      1321\n",
      "\n",
      "   micro avg       0.86      0.86      0.86      8697\n",
      "   macro avg       0.73      0.59      0.61      8697\n",
      "weighted avg       0.83      0.86      0.83      8697\n",
      "\n",
      "--------------------------------------------------------------------------------\n",
      "Percent increase for edge_disjoint: 0.03\n",
      "================================================================================\n",
      "\n",
      "WORD_DISJOINT\n",
      "Experiment for word_disjoint challenge and function vec_concatenate:\n",
      "              precision    recall  f1-score   support\n",
      "\n",
      "           0       0.90      0.98      0.94      1910\n",
      "           1       0.46      0.15      0.23       239\n",
      "\n",
      "   micro avg       0.89      0.89      0.89      2149\n",
      "   macro avg       0.68      0.57      0.59      2149\n",
      "weighted avg       0.85      0.89      0.86      2149\n",
      "\n",
      "--------------------------------------------------------------------------------\n",
      "Experiment for word_disjoint challenge and function hypothesis_only:\n",
      "              precision    recall  f1-score   support\n",
      "\n",
      "           0       0.89      0.99      0.94      1910\n",
      "           1       0.37      0.05      0.09       239\n",
      "\n",
      "   micro avg       0.88      0.88      0.88      2149\n",
      "   macro avg       0.63      0.52      0.52      2149\n",
      "weighted avg       0.84      0.88      0.84      2149\n",
      "\n",
      "--------------------------------------------------------------------------------\n",
      "Percent increase for word_disjoint: 0.13\n",
      "================================================================================\n",
      "\n"
     ]
    }
   ],
   "source": [
    "import sklearn\n",
    "\n",
    "#1\n",
    "def hypothesis_only(u, v):\n",
    "    return v\n",
    "\n",
    "#2\n",
    "res = {}\n",
    "for k in ['edge_disjoint', 'word_disjoint']:\n",
    "    print(k.upper())\n",
    "    for vec_func in [vec_concatenate, hypothesis_only]:\n",
    "        print(f\"Experiment for {k} challenge and function {vec_func.__name__}:\")\n",
    "        \n",
    "        res_key = f\"{k}_{vec_func.__name__}\"\n",
    "        \n",
    "        res[res_key] = nli.wordentail_experiment(\n",
    "            train_data=wordentail_data[k]['train'],\n",
    "            assess_data=wordentail_data[k]['dev'],\n",
    "            model=sklearn.linear_model.LogisticRegression(solver='liblinear'),\n",
    "            vector_func=glove_vec,\n",
    "            vector_combo_func=vec_func\n",
    "        )\n",
    "        print(\"-\"*80)\n",
    "    #3\n",
    "    vc_key = f\"{k}_vec_concatenate\"\n",
    "    ho_key = f\"{k}_hypothesis_only\"\n",
    "    vc_res = res[vc_key]['macro-F1']\n",
    "    ho_res = res[ho_key]['macro-F1']\n",
    "    pct_inc = float(vc_res - ho_res) / float(ho_res)\n",
    "    print(f\"Percent increase for {k}: {pct_inc:.2f}\")\n",
    "    print(\"=\"*80)\n",
    "    print()"
   ]
  },
  {
   "cell_type": "markdown",
   "metadata": {},
   "source": [
    "### Alternatives to concatenation [1 point]\n",
    "\n",
    "We've so far just used vector concatenation to represent the premise and hypothesis words. This question asks you to explore a simple alternative. \n",
    "\n",
    "For this problem, submit code the following:\n",
    "\n",
    "1. A new potential value for `vector_combo_func` that does something different from concatenation. Options include, but are not limited to, element-wise addition, difference, and multiplication. These can be combined with concatenation if you like.\n",
    "1. Include a use of `nli.wordentail_experiment` in the same configuration as the one in [Baseline results](#Baseline-results) above, but with your new value of `vector_combo_func`."
   ]
  },
  {
   "cell_type": "code",
   "execution_count": 38,
   "metadata": {},
   "outputs": [
    {
     "name": "stdout",
     "output_type": "stream",
     "text": [
      "ELEMENTWISE_SUM\n"
     ]
    },
    {
     "name": "stderr",
     "output_type": "stream",
     "text": [
      "Finished epoch 100 of 100; error is 0.8535327166318893"
     ]
    },
    {
     "name": "stdout",
     "output_type": "stream",
     "text": [
      "              precision    recall  f1-score   support\n",
      "\n",
      "           0       0.91      0.92      0.91      1910\n",
      "           1       0.31      0.29      0.30       239\n",
      "\n",
      "   micro avg       0.85      0.85      0.85      2149\n",
      "   macro avg       0.61      0.61      0.61      2149\n",
      "weighted avg       0.84      0.85      0.85      2149\n",
      "\n",
      "CROSS_DOT_PRODUCT\n"
     ]
    },
    {
     "name": "stderr",
     "output_type": "stream",
     "text": [
      "Finished epoch 100 of 100; error is 2.7634670436382294"
     ]
    },
    {
     "name": "stdout",
     "output_type": "stream",
     "text": [
      "              precision    recall  f1-score   support\n",
      "\n",
      "           0       0.90      0.78      0.83      1910\n",
      "           1       0.14      0.29      0.19       239\n",
      "\n",
      "   micro avg       0.72      0.72      0.72      2149\n",
      "   macro avg       0.52      0.53      0.51      2149\n",
      "weighted avg       0.81      0.72      0.76      2149\n",
      "\n",
      "CONCATENATED_SUM\n"
     ]
    },
    {
     "name": "stderr",
     "output_type": "stream",
     "text": [
      "Finished epoch 100 of 100; error is 0.024772734846919775"
     ]
    },
    {
     "name": "stdout",
     "output_type": "stream",
     "text": [
      "              precision    recall  f1-score   support\n",
      "\n",
      "           0       0.92      0.94      0.93      1910\n",
      "           1       0.43      0.35      0.39       239\n",
      "\n",
      "   micro avg       0.88      0.88      0.88      2149\n",
      "   macro avg       0.68      0.65      0.66      2149\n",
      "weighted avg       0.87      0.88      0.87      2149\n",
      "\n",
      "CONCATENATED_DIFF\n"
     ]
    },
    {
     "name": "stderr",
     "output_type": "stream",
     "text": [
      "Finished epoch 100 of 100; error is 0.012119481223635375"
     ]
    },
    {
     "name": "stdout",
     "output_type": "stream",
     "text": [
      "              precision    recall  f1-score   support\n",
      "\n",
      "           0       0.92      0.93      0.93      1910\n",
      "           1       0.42      0.38      0.40       239\n",
      "\n",
      "   micro avg       0.87      0.87      0.87      2149\n",
      "   macro avg       0.67      0.66      0.66      2149\n",
      "weighted avg       0.87      0.87      0.87      2149\n",
      "\n"
     ]
    }
   ],
   "source": [
    "def elementwise_sum(u, v):\n",
    "    # Use a length check in case len(u) != len(v)\n",
    "    if len(u) < len(v):\n",
    "        q = v.copy()\n",
    "        q[:len(u)] += u\n",
    "    else:\n",
    "        q = u.copy()\n",
    "        q[:len(v)] += v\n",
    "    return q\n",
    "\n",
    "print(\"ELEMENTWISE_SUM\")\n",
    "elementwise_sum_experiment = nli.wordentail_experiment(\n",
    "    train_data=wordentail_data['word_disjoint']['train'],\n",
    "    assess_data=wordentail_data['word_disjoint']['dev'], \n",
    "    model=net, \n",
    "    vector_func=glove_vec,\n",
    "    vector_combo_func=elementwise_sum\n",
    ")\n",
    "\n",
    "def cross_dot_product(u, v):\n",
    "    u_np = np.array(u)\n",
    "    v_np = np.array(v)\n",
    "    return np.outer(u_np, v_np).dot(v_np)\n",
    "\n",
    "print(\"CROSS_DOT_PRODUCT\")\n",
    "dot_experiment = nli.wordentail_experiment(\n",
    "    train_data=wordentail_data['word_disjoint']['train'],\n",
    "    assess_data=wordentail_data['word_disjoint']['dev'], \n",
    "    model=net, \n",
    "    vector_func=glove_vec,\n",
    "    vector_combo_func=cross_dot_product\n",
    ")\n",
    "\n",
    "\n",
    "def concat_elementwise_sum(u, v):\n",
    "    s = elementwise_sum(u, v)\n",
    "    return np.concatenate([u, s, v])\n",
    "\n",
    "print(\"CONCATENATED_SUM\")\n",
    "concat_sum_experiment = nli.wordentail_experiment(\n",
    "    train_data=wordentail_data['word_disjoint']['train'],\n",
    "    assess_data=wordentail_data['word_disjoint']['dev'], \n",
    "    model=net, \n",
    "    vector_func=glove_vec,\n",
    "    vector_combo_func=concat_elementwise_sum\n",
    ")\n",
    "\n",
    "## Basically the same as the sum...\n",
    "# def elementwise_diff(u, v):\n",
    "#     \"\"\"\n",
    "#     Returns u - v. If len(v) > len(u), first zero-fill u\n",
    "#     \"\"\"\n",
    "#     # Use a length check in case len(u) != len(v)\n",
    "#     if len(u) < len(v):\n",
    "#         q = v.copy()\n",
    "#         q = -1 * q\n",
    "#         q[:len(u)] += u\n",
    "#     else:\n",
    "#         q = u.copy()\n",
    "#         q[:len(v)] -= v\n",
    "#     return q\n",
    "    \n",
    "# def concat_elementwise_diff(u, v):\n",
    "#     s = elementwise_diff(u, v)\n",
    "#     return np.concatenate([u, s, v])\n",
    "\n",
    "# print(\"CONCATENATED_DIFF\")\n",
    "# concat_sum_experiment = nli.wordentail_experiment(\n",
    "#     train_data=wordentail_data['word_disjoint']['train'],\n",
    "#     assess_data=wordentail_data['word_disjoint']['dev'], \n",
    "#     model=net, \n",
    "#     vector_func=glove_vec,\n",
    "#     vector_combo_func=concat_elementwise_diff\n",
    "# )\n"
   ]
  },
  {
   "cell_type": "markdown",
   "metadata": {},
   "source": [
    "### A deeper network [2 points]\n",
    "\n",
    "It is very easy to subclass `TorchShallowNeuralClassifier` if all you want to do is change the network graph: all you have to do is write a new `define_graph`. If your graph has new arguments that the user might want to set, then you should also redefine `__init__` so that these values are accepted and set as attributes.\n",
    "\n",
    "For this question, please subclass `TorchShallowNeuralClassifier` so that it defines the following graph:\n",
    "\n",
    "$$\\begin{align}\n",
    "h_{1} &= xW_{1} + b_{1} \\\\\n",
    "r_{1} &= \\textbf{Bernoulli}(1 - \\textbf{dropout_prob}, n) \\\\\n",
    "d_{1} &= r_1 * h_{1} \\\\\n",
    "h_{2} &= f(d_{1}) \\\\\n",
    "h_{3} &= h_{2}W_{2} + b_{2}\n",
    "\\end{align}$$\n",
    "\n",
    "Here, $r_{1}$ and $d_{1}$ define a dropout layer: $r_{1}$ is a random binary vector of dimension $n$, where the probability of a value being $1$ is given by $1 - \\textbf{dropout_prob}$. $r_{1}$ is multiplied element-wise by our first hidden representation, thereby zeroing out some of the values. The result is fed to the user's activation function $f$, and the result of that is fed through another linear layer to produce $h_{3}$. (Inside `TorchShallowNeuralClassifier`, $h_{3}$ is the basis for a softmax classifier, so no activation function is applied to it.)\n",
    "\n",
    "For comparison, using this notation, `TorchShallowNeuralClassifier` defines the following graph:\n",
    "\n",
    "$$\\begin{align}\n",
    "h_{1} &= xW_{1} + b_{1} \\\\\n",
    "h_{2} &= f(h_{1}) \\\\\n",
    "h_{3} &= h_{2}W_{2} + b_{2}\n",
    "\\end{align}$$\n",
    "\n",
    "The following code starts this sub-class for you, so that you can concentrate on `define_graph`. Be sure to make use of `self.dropout_prob`\n",
    "\n",
    "For this problem, submit just your completed  `TorchDeepNeuralClassifier`. You needn't evaluate it, though we assume you will be keen to do that!"
   ]
  },
  {
   "cell_type": "code",
   "execution_count": 47,
   "metadata": {},
   "outputs": [
    {
     "name": "stderr",
     "output_type": "stream",
     "text": [
      "Finished epoch 250 of 250; error is 0.10502827400341636"
     ]
    },
    {
     "name": "stdout",
     "output_type": "stream",
     "text": [
      "              precision    recall  f1-score   support\n",
      "\n",
      "           0       0.92      0.95      0.93      1910\n",
      "           1       0.44      0.32      0.37       239\n",
      "\n",
      "   micro avg       0.88      0.88      0.88      2149\n",
      "   macro avg       0.68      0.63      0.65      2149\n",
      "weighted avg       0.86      0.88      0.87      2149\n",
      "\n"
     ]
    }
   ],
   "source": [
    "import torch.nn as nn\n",
    "\n",
    "class TorchDeepNeuralClassifier(TorchShallowNeuralClassifier):\n",
    "    def __init__(self, dropout_prob=0.7, **kwargs):\n",
    "        self.dropout_prob = dropout_prob\n",
    "        super().__init__(**kwargs)\n",
    "    \n",
    "    def define_graph(self):\n",
    "        \"\"\"Complete this method!\n",
    "        \n",
    "        Returns\n",
    "        -------\n",
    "        an `nn.Module` instance, which can be a free-standing class you \n",
    "        write yourself, as in `torch_rnn_classifier`, or the output of \n",
    "        `nn.Sequential`, as in `torch_shallow_neural_classifier`.\n",
    "        \n",
    "        \"\"\"\n",
    "        return nn.Sequential(nn.Linear(self.input_dim, self.hidden_dim),\n",
    "                             nn.Dropout(p=self.dropout_prob),\n",
    "                             self.hidden_activation,\n",
    "                             nn.Linear(self.hidden_dim, self.n_classes_)\n",
    "                            )\n",
    "\n",
    "advanced_net = TorchDeepNeuralClassifier(hidden_dim=100, max_iter=250, dropout_prob=0.1)\n",
    "\n",
    "baseline_plus_experiment = nli.wordentail_experiment(\n",
    "    train_data=wordentail_data['word_disjoint']['train'],\n",
    "    assess_data=wordentail_data['word_disjoint']['dev'], \n",
    "    model=advanced_net, \n",
    "    vector_func=glove_vec,\n",
    "    vector_combo_func=concat_elementwise_sum)\n"
   ]
  },
  {
   "cell_type": "markdown",
   "metadata": {},
   "source": [
    "### Your original system [4 points]\n",
    "\n",
    "This is a simple dataset, but our focus on the 'word_disjoint' condition ensures that it's a challenging one, and there are lots of modeling strategies one might adopt. \n",
    "\n",
    "You are free to do whatever you like. We require only that your system differ in some way from those defined in the preceding questions. They don't have to be completely different, though. For example, you might want to stick with the model but represent examples differently, or the reverse.\n",
    "\n",
    "Keep in mind that, for the bake-off evaluation, the 'edge_disjoint' portions of the data are off limits. You can, though, train on the combination of the 'word_disjoint' 'train' and 'dev' portions. You are free to use different pretrained word vectors and the like. Please do not introduce additional entailment datasets into your training data, though.\n",
    "\n",
    "Please embed your code in this notebook so that we can rerun it."
   ]
  },
  {
   "cell_type": "code",
   "execution_count": 117,
   "metadata": {},
   "outputs": [],
   "source": [
    "import copy\n",
    "import sklearn.utils as sku\n",
    "\n",
    "def balance_data(in_data, style='oversample'):\n",
    "    out_data = []\n",
    "    pos_samples = [d for d in in_data if d[1] == 1]\n",
    "    neg_samples = [d for d in in_data if d[1] == 0]\n",
    "#     print(len(pos_samples))\n",
    "#     print(len(neg_samples))\n",
    "    if style == 'oversample':\n",
    "        out_data.extend(neg_samples)\n",
    "        out_data.extend(sku.resample(pos_samples, n_samples=len(neg_samples)))\n",
    "    elif style == 'undersample':\n",
    "        out_data.extend(pos_samples)\n",
    "        out_data.extend(sku.resample(neg_samples, n_samples=len(pos_samples)))\n",
    "    elif style == 'both':\n",
    "        num_samps = int(abs(len(pos_samples) - len(neg_samples)) / 2)\n",
    "        out_data.extend(sku.resample(pos_samples, n_samples=num_samps))\n",
    "        out_data.extend(sku.resample(neg_samples, n_samples=num_samps))\n",
    "    else:\n",
    "        return in_data\n",
    "    return out_data\n",
    "\n",
    "glove_dim = 100\n",
    "glove_src = os.path.join(GLOVE_HOME, 'glove.6B.{}d.txt'.format(glove_dim))\n",
    "# Creates a dict mapping strings (words) to GloVe vectors:\n",
    "glove_lookup = utils.glove2dict(glove_src)\n",
    "def better_glove_vec(w):    \n",
    "    \"\"\"Return `w`'s GloVe representation if available, else return \n",
    "    a random vector.\"\"\"\n",
    "    return glove_lookup.get(w, randvec(w, n=glove_dim))\n",
    "\n",
    "# Let's try BERT embeddings\n",
    "# from bert_serving.client import BertClient\n",
    "\n",
    "# # The BERT Client\n",
    "# bc = BertClient(check_length=False)\n",
    "# print(\"Encoding vocab\")\n",
    "# # print(len(wordentail_data['vocab']))\n",
    "# # print(wordentail_data['vocab'])\n",
    "# bert_vocab, bert_toks = bc.encode(wordentail_data['vocab'], show_tokens=True)\n",
    "# bert_lookup = {}\n",
    "# print(\"Building bert_lookup\")\n",
    "# for w, bv in zip(wordentail_data['vocab'], bert_vocab):\n",
    "#     bert_lookup[w] = bv\n",
    "# print(\"Done creating bert lookup\")\n",
    "\n",
    "# def bert_vec(w):\n",
    "#     return bert_lookup[w]\n",
    "## BERT doesn't appear to be much better -- this makes sense,\n",
    "## since BERT is for word embeddings based on their context,\n",
    "## and in single-word entailment, there is no context to use anyways."
   ]
  },
  {
   "cell_type": "code",
   "execution_count": 118,
   "metadata": {},
   "outputs": [
    {
     "name": "stdout",
     "output_type": "stream",
     "text": [
      "Data augmentation style: oversample\n",
      "Hidden dim: 50\n",
      "Dropout: 0.1\n"
     ]
    },
    {
     "name": "stderr",
     "output_type": "stream",
     "text": [
      "Finished epoch 200 of 200; error is 3.8489951379597187"
     ]
    },
    {
     "name": "stdout",
     "output_type": "stream",
     "text": [
      "              precision    recall  f1-score   support\n",
      "\n",
      "           0       0.91      0.92      0.92      1910\n",
      "           1       0.32      0.30      0.31       239\n",
      "\n",
      "   micro avg       0.85      0.85      0.85      2149\n",
      "   macro avg       0.62      0.61      0.61      2149\n",
      "weighted avg       0.85      0.85      0.85      2149\n",
      "\n",
      "================================================================================\n",
      "Data augmentation style: oversample\n",
      "Hidden dim: 50\n",
      "Dropout: 0.2\n"
     ]
    },
    {
     "name": "stderr",
     "output_type": "stream",
     "text": [
      "Finished epoch 200 of 200; error is 4.1500989086925985"
     ]
    },
    {
     "name": "stdout",
     "output_type": "stream",
     "text": [
      "              precision    recall  f1-score   support\n",
      "\n",
      "           0       0.92      0.93      0.93      1910\n",
      "           1       0.40      0.38      0.39       239\n",
      "\n",
      "   micro avg       0.87      0.87      0.87      2149\n",
      "   macro avg       0.66      0.65      0.66      2149\n",
      "weighted avg       0.86      0.87      0.87      2149\n",
      "\n",
      "================================================================================\n",
      "Data augmentation style: oversample\n",
      "Hidden dim: 50\n",
      "Dropout: 0.3\n"
     ]
    },
    {
     "name": "stderr",
     "output_type": "stream",
     "text": [
      "Finished epoch 200 of 200; error is 4.6389740705490115"
     ]
    },
    {
     "name": "stdout",
     "output_type": "stream",
     "text": [
      "              precision    recall  f1-score   support\n",
      "\n",
      "           0       0.94      0.87      0.90      1910\n",
      "           1       0.35      0.54      0.42       239\n",
      "\n",
      "   micro avg       0.84      0.84      0.84      2149\n",
      "   macro avg       0.64      0.71      0.66      2149\n",
      "weighted avg       0.87      0.84      0.85      2149\n",
      "\n",
      "================================================================================\n",
      "Data augmentation style: oversample\n",
      "Hidden dim: 100\n",
      "Dropout: 0.1\n"
     ]
    },
    {
     "name": "stderr",
     "output_type": "stream",
     "text": [
      "Finished epoch 200 of 200; error is 3.7394493483006954"
     ]
    },
    {
     "name": "stdout",
     "output_type": "stream",
     "text": [
      "              precision    recall  f1-score   support\n",
      "\n",
      "           0       0.92      0.89      0.91      1910\n",
      "           1       0.30      0.36      0.32       239\n",
      "\n",
      "   micro avg       0.83      0.83      0.83      2149\n",
      "   macro avg       0.61      0.63      0.61      2149\n",
      "weighted avg       0.85      0.83      0.84      2149\n",
      "\n",
      "================================================================================\n",
      "Data augmentation style: oversample\n",
      "Hidden dim: 100\n",
      "Dropout: 0.2\n"
     ]
    },
    {
     "name": "stderr",
     "output_type": "stream",
     "text": [
      "Finished epoch 200 of 200; error is 4.2429143413901334"
     ]
    },
    {
     "name": "stdout",
     "output_type": "stream",
     "text": [
      "              precision    recall  f1-score   support\n",
      "\n",
      "           0       0.92      0.86      0.89      1910\n",
      "           1       0.28      0.43      0.34       239\n",
      "\n",
      "   micro avg       0.81      0.81      0.81      2149\n",
      "   macro avg       0.60      0.64      0.61      2149\n",
      "weighted avg       0.85      0.81      0.83      2149\n",
      "\n",
      "================================================================================\n",
      "Data augmentation style: oversample\n",
      "Hidden dim: 100\n",
      "Dropout: 0.3\n"
     ]
    },
    {
     "name": "stderr",
     "output_type": "stream",
     "text": [
      "Finished epoch 200 of 200; error is 4.6657730340957645"
     ]
    },
    {
     "name": "stdout",
     "output_type": "stream",
     "text": [
      "              precision    recall  f1-score   support\n",
      "\n",
      "           0       0.93      0.93      0.93      1910\n",
      "           1       0.44      0.46      0.45       239\n",
      "\n",
      "   micro avg       0.88      0.88      0.88      2149\n",
      "   macro avg       0.69      0.69      0.69      2149\n",
      "weighted avg       0.88      0.88      0.88      2149\n",
      "\n",
      "================================================================================\n",
      "Data augmentation style: oversample\n",
      "Hidden dim: 200\n",
      "Dropout: 0.1\n"
     ]
    },
    {
     "name": "stderr",
     "output_type": "stream",
     "text": [
      "Finished epoch 200 of 200; error is 4.8119736760854725"
     ]
    },
    {
     "name": "stdout",
     "output_type": "stream",
     "text": [
      "              precision    recall  f1-score   support\n",
      "\n",
      "           0       0.92      0.91      0.91      1910\n",
      "           1       0.32      0.33      0.33       239\n",
      "\n",
      "   micro avg       0.85      0.85      0.85      2149\n",
      "   macro avg       0.62      0.62      0.62      2149\n",
      "weighted avg       0.85      0.85      0.85      2149\n",
      "\n",
      "================================================================================\n",
      "Data augmentation style: oversample\n",
      "Hidden dim: 200\n",
      "Dropout: 0.2\n"
     ]
    },
    {
     "name": "stderr",
     "output_type": "stream",
     "text": [
      "Finished epoch 200 of 200; error is 4.0038951784372335"
     ]
    },
    {
     "name": "stdout",
     "output_type": "stream",
     "text": [
      "              precision    recall  f1-score   support\n",
      "\n",
      "           0       0.92      0.93      0.92      1910\n",
      "           1       0.38      0.34      0.36       239\n",
      "\n",
      "   micro avg       0.86      0.86      0.86      2149\n",
      "   macro avg       0.65      0.64      0.64      2149\n",
      "weighted avg       0.86      0.86      0.86      2149\n",
      "\n",
      "================================================================================\n",
      "Data augmentation style: oversample\n",
      "Hidden dim: 200\n",
      "Dropout: 0.3\n"
     ]
    },
    {
     "name": "stderr",
     "output_type": "stream",
     "text": [
      "Finished epoch 200 of 200; error is 4.7622310221195224"
     ]
    },
    {
     "name": "stdout",
     "output_type": "stream",
     "text": [
      "              precision    recall  f1-score   support\n",
      "\n",
      "           0       0.92      0.91      0.92      1910\n",
      "           1       0.36      0.41      0.38       239\n",
      "\n",
      "   micro avg       0.85      0.85      0.85      2149\n",
      "   macro avg       0.64      0.66      0.65      2149\n",
      "weighted avg       0.86      0.85      0.86      2149\n",
      "\n",
      "================================================================================\n",
      "Data augmentation style: both\n",
      "Hidden dim: 50\n",
      "Dropout: 0.1\n"
     ]
    },
    {
     "name": "stderr",
     "output_type": "stream",
     "text": [
      "Finished epoch 200 of 200; error is 1.2572931200265884"
     ]
    },
    {
     "name": "stdout",
     "output_type": "stream",
     "text": [
      "              precision    recall  f1-score   support\n",
      "\n",
      "           0       0.93      0.91      0.92      1910\n",
      "           1       0.37      0.43      0.39       239\n",
      "\n",
      "   micro avg       0.85      0.85      0.85      2149\n",
      "   macro avg       0.65      0.67      0.66      2149\n",
      "weighted avg       0.86      0.85      0.86      2149\n",
      "\n",
      "================================================================================\n",
      "Data augmentation style: both\n",
      "Hidden dim: 50\n",
      "Dropout: 0.2\n"
     ]
    },
    {
     "name": "stderr",
     "output_type": "stream",
     "text": [
      "Finished epoch 200 of 200; error is 1.4539739638566973"
     ]
    },
    {
     "name": "stdout",
     "output_type": "stream",
     "text": [
      "              precision    recall  f1-score   support\n",
      "\n",
      "           0       0.94      0.86      0.90      1910\n",
      "           1       0.33      0.56      0.42       239\n",
      "\n",
      "   micro avg       0.83      0.83      0.83      2149\n",
      "   macro avg       0.64      0.71      0.66      2149\n",
      "weighted avg       0.87      0.83      0.84      2149\n",
      "\n",
      "================================================================================\n",
      "Data augmentation style: both\n",
      "Hidden dim: 50\n",
      "Dropout: 0.3\n"
     ]
    },
    {
     "name": "stderr",
     "output_type": "stream",
     "text": [
      "Finished epoch 200 of 200; error is 1.5344067811965942"
     ]
    },
    {
     "name": "stdout",
     "output_type": "stream",
     "text": [
      "              precision    recall  f1-score   support\n",
      "\n",
      "           0       0.94      0.86      0.90      1910\n",
      "           1       0.34      0.56      0.42       239\n",
      "\n",
      "   micro avg       0.83      0.83      0.83      2149\n",
      "   macro avg       0.64      0.71      0.66      2149\n",
      "weighted avg       0.87      0.83      0.85      2149\n",
      "\n",
      "================================================================================\n",
      "Data augmentation style: both\n",
      "Hidden dim: 100\n",
      "Dropout: 0.1\n"
     ]
    },
    {
     "name": "stderr",
     "output_type": "stream",
     "text": [
      "Finished epoch 200 of 200; error is 1.2588433623313904"
     ]
    },
    {
     "name": "stdout",
     "output_type": "stream",
     "text": [
      "              precision    recall  f1-score   support\n",
      "\n",
      "           0       0.92      0.90      0.91      1910\n",
      "           1       0.31      0.38      0.34       239\n",
      "\n",
      "   micro avg       0.84      0.84      0.84      2149\n",
      "   macro avg       0.62      0.64      0.62      2149\n",
      "weighted avg       0.85      0.84      0.84      2149\n",
      "\n",
      "================================================================================\n",
      "Data augmentation style: both\n",
      "Hidden dim: 100\n",
      "Dropout: 0.2\n"
     ]
    },
    {
     "name": "stderr",
     "output_type": "stream",
     "text": [
      "Finished epoch 200 of 200; error is 1.3076198250055313"
     ]
    },
    {
     "name": "stdout",
     "output_type": "stream",
     "text": [
      "              precision    recall  f1-score   support\n",
      "\n",
      "           0       0.94      0.85      0.89      1910\n",
      "           1       0.31      0.55      0.40       239\n",
      "\n",
      "   micro avg       0.81      0.81      0.81      2149\n",
      "   macro avg       0.62      0.70      0.64      2149\n",
      "weighted avg       0.87      0.81      0.84      2149\n",
      "\n",
      "================================================================================\n",
      "Data augmentation style: both\n",
      "Hidden dim: 100\n",
      "Dropout: 0.3\n"
     ]
    },
    {
     "name": "stderr",
     "output_type": "stream",
     "text": [
      "Finished epoch 200 of 200; error is 1.4018592685461044"
     ]
    },
    {
     "name": "stdout",
     "output_type": "stream",
     "text": [
      "              precision    recall  f1-score   support\n",
      "\n",
      "           0       0.94      0.86      0.90      1910\n",
      "           1       0.34      0.57      0.43       239\n",
      "\n",
      "   micro avg       0.83      0.83      0.83      2149\n",
      "   macro avg       0.64      0.72      0.66      2149\n",
      "weighted avg       0.87      0.83      0.85      2149\n",
      "\n",
      "================================================================================\n",
      "Data augmentation style: both\n",
      "Hidden dim: 200\n",
      "Dropout: 0.1\n"
     ]
    },
    {
     "name": "stderr",
     "output_type": "stream",
     "text": [
      "Finished epoch 200 of 200; error is 1.2073002755641937"
     ]
    },
    {
     "name": "stdout",
     "output_type": "stream",
     "text": [
      "              precision    recall  f1-score   support\n",
      "\n",
      "           0       0.92      0.90      0.91      1910\n",
      "           1       0.29      0.34      0.31       239\n",
      "\n",
      "   micro avg       0.83      0.83      0.83      2149\n",
      "   macro avg       0.60      0.62      0.61      2149\n",
      "weighted avg       0.85      0.83      0.84      2149\n",
      "\n",
      "================================================================================\n",
      "Data augmentation style: both\n",
      "Hidden dim: 200\n",
      "Dropout: 0.2\n"
     ]
    },
    {
     "name": "stderr",
     "output_type": "stream",
     "text": [
      "Finished epoch 200 of 200; error is 1.3277530670166016"
     ]
    },
    {
     "name": "stdout",
     "output_type": "stream",
     "text": [
      "              precision    recall  f1-score   support\n",
      "\n",
      "           0       0.93      0.89      0.91      1910\n",
      "           1       0.34      0.46      0.39       239\n",
      "\n",
      "   micro avg       0.84      0.84      0.84      2149\n",
      "   macro avg       0.63      0.67      0.65      2149\n",
      "weighted avg       0.86      0.84      0.85      2149\n",
      "\n",
      "================================================================================\n",
      "Data augmentation style: both\n",
      "Hidden dim: 200\n",
      "Dropout: 0.3\n"
     ]
    },
    {
     "name": "stderr",
     "output_type": "stream",
     "text": [
      "Finished epoch 200 of 200; error is 1.3433310985565186"
     ]
    },
    {
     "name": "stdout",
     "output_type": "stream",
     "text": [
      "              precision    recall  f1-score   support\n",
      "\n",
      "           0       0.92      0.90      0.91      1910\n",
      "           1       0.32      0.38      0.35       239\n",
      "\n",
      "   micro avg       0.84      0.84      0.84      2149\n",
      "   macro avg       0.62      0.64      0.63      2149\n",
      "weighted avg       0.85      0.84      0.85      2149\n",
      "\n",
      "================================================================================\n",
      "Data augmentation style: original\n",
      "Hidden dim: 50\n",
      "Dropout: 0.1\n"
     ]
    },
    {
     "name": "stderr",
     "output_type": "stream",
     "text": [
      "Finished epoch 200 of 200; error is 1.6674161255359657"
     ]
    },
    {
     "name": "stdout",
     "output_type": "stream",
     "text": [
      "              precision    recall  f1-score   support\n",
      "\n",
      "           0       0.89      0.98      0.94      1910\n",
      "           1       0.33      0.07      0.11       239\n",
      "\n",
      "   micro avg       0.88      0.88      0.88      2149\n",
      "   macro avg       0.61      0.53      0.52      2149\n",
      "weighted avg       0.83      0.88      0.84      2149\n",
      "\n",
      "================================================================================\n",
      "Data augmentation style: original\n",
      "Hidden dim: 50\n",
      "Dropout: 0.2\n"
     ]
    },
    {
     "name": "stderr",
     "output_type": "stream",
     "text": [
      "Finished epoch 200 of 200; error is 1.8623005300760277"
     ]
    },
    {
     "name": "stdout",
     "output_type": "stream",
     "text": [
      "              precision    recall  f1-score   support\n",
      "\n",
      "           0       0.90      0.98      0.94      1910\n",
      "           1       0.43      0.12      0.19       239\n",
      "\n",
      "   micro avg       0.88      0.88      0.88      2149\n",
      "   macro avg       0.67      0.55      0.56      2149\n",
      "weighted avg       0.85      0.88      0.85      2149\n",
      "\n",
      "================================================================================\n",
      "Data augmentation style: original\n",
      "Hidden dim: 50\n",
      "Dropout: 0.3\n"
     ]
    },
    {
     "name": "stderr",
     "output_type": "stream",
     "text": [
      "Finished epoch 200 of 200; error is 1.9002169221639633"
     ]
    },
    {
     "name": "stdout",
     "output_type": "stream",
     "text": [
      "              precision    recall  f1-score   support\n",
      "\n",
      "           0       0.90      0.98      0.94      1910\n",
      "           1       0.39      0.08      0.14       239\n",
      "\n",
      "   micro avg       0.88      0.88      0.88      2149\n",
      "   macro avg       0.64      0.53      0.54      2149\n",
      "weighted avg       0.84      0.88      0.85      2149\n",
      "\n",
      "================================================================================\n",
      "Data augmentation style: original\n",
      "Hidden dim: 100\n",
      "Dropout: 0.1\n"
     ]
    },
    {
     "name": "stderr",
     "output_type": "stream",
     "text": [
      "Finished epoch 200 of 200; error is 1.6132768094539642"
     ]
    },
    {
     "name": "stdout",
     "output_type": "stream",
     "text": [
      "              precision    recall  f1-score   support\n",
      "\n",
      "           0       0.90      0.98      0.94      1910\n",
      "           1       0.38      0.09      0.15       239\n",
      "\n",
      "   micro avg       0.88      0.88      0.88      2149\n",
      "   macro avg       0.64      0.54      0.54      2149\n",
      "weighted avg       0.84      0.88      0.85      2149\n",
      "\n",
      "================================================================================\n",
      "Data augmentation style: original\n",
      "Hidden dim: 100\n",
      "Dropout: 0.2\n"
     ]
    },
    {
     "name": "stderr",
     "output_type": "stream",
     "text": [
      "Finished epoch 200 of 200; error is 1.7000831216573715"
     ]
    },
    {
     "name": "stdout",
     "output_type": "stream",
     "text": [
      "              precision    recall  f1-score   support\n",
      "\n",
      "           0       0.90      0.99      0.94      1910\n",
      "           1       0.47      0.08      0.13       239\n",
      "\n",
      "   micro avg       0.89      0.89      0.89      2149\n",
      "   macro avg       0.68      0.53      0.54      2149\n",
      "weighted avg       0.85      0.89      0.85      2149\n",
      "\n",
      "================================================================================\n",
      "Data augmentation style: original\n",
      "Hidden dim: 100\n",
      "Dropout: 0.3\n"
     ]
    },
    {
     "name": "stderr",
     "output_type": "stream",
     "text": [
      "Finished epoch 200 of 200; error is 1.7737471461296082"
     ]
    },
    {
     "name": "stdout",
     "output_type": "stream",
     "text": [
      "              precision    recall  f1-score   support\n",
      "\n",
      "           0       0.90      0.99      0.94      1910\n",
      "           1       0.49      0.09      0.15       239\n",
      "\n",
      "   micro avg       0.89      0.89      0.89      2149\n",
      "   macro avg       0.69      0.54      0.54      2149\n",
      "weighted avg       0.85      0.89      0.85      2149\n",
      "\n",
      "================================================================================\n",
      "Data augmentation style: original\n",
      "Hidden dim: 200\n",
      "Dropout: 0.1\n"
     ]
    },
    {
     "name": "stderr",
     "output_type": "stream",
     "text": [
      "Finished epoch 200 of 200; error is 1.6135762631893158"
     ]
    },
    {
     "name": "stdout",
     "output_type": "stream",
     "text": [
      "              precision    recall  f1-score   support\n",
      "\n",
      "           0       0.89      0.98      0.94      1910\n",
      "           1       0.38      0.08      0.13       239\n",
      "\n",
      "   micro avg       0.88      0.88      0.88      2149\n",
      "   macro avg       0.64      0.53      0.53      2149\n",
      "weighted avg       0.84      0.88      0.85      2149\n",
      "\n",
      "================================================================================\n",
      "Data augmentation style: original\n",
      "Hidden dim: 200\n",
      "Dropout: 0.2\n"
     ]
    },
    {
     "name": "stderr",
     "output_type": "stream",
     "text": [
      "Finished epoch 200 of 200; error is 1.6133108884096146"
     ]
    },
    {
     "name": "stdout",
     "output_type": "stream",
     "text": [
      "              precision    recall  f1-score   support\n",
      "\n",
      "           0       0.90      0.98      0.94      1910\n",
      "           1       0.48      0.16      0.24       239\n",
      "\n",
      "   micro avg       0.89      0.89      0.89      2149\n",
      "   macro avg       0.69      0.57      0.59      2149\n",
      "weighted avg       0.86      0.89      0.86      2149\n",
      "\n",
      "================================================================================\n",
      "Data augmentation style: original\n",
      "Hidden dim: 200\n",
      "Dropout: 0.3\n"
     ]
    },
    {
     "name": "stderr",
     "output_type": "stream",
     "text": [
      "Finished epoch 200 of 200; error is 1.7036578208208084"
     ]
    },
    {
     "name": "stdout",
     "output_type": "stream",
     "text": [
      "              precision    recall  f1-score   support\n",
      "\n",
      "           0       0.89      0.99      0.94      1910\n",
      "           1       0.30      0.04      0.07       239\n",
      "\n",
      "   micro avg       0.88      0.88      0.88      2149\n",
      "   macro avg       0.60      0.51      0.51      2149\n",
      "weighted avg       0.83      0.88      0.84      2149\n",
      "\n",
      "================================================================================\n",
      "Best model was hidden=100, dropout=0.3, with data augmentation: oversample Using those params for the bake off experiment: 0.6891276842891627\n"
     ]
    }
   ],
   "source": [
    "best_s = None\n",
    "best_f1 = 0\n",
    "best_hidden = None\n",
    "best_dropout = None\n",
    "best_exp = None\n",
    "for s in ['oversample', 'both', 'original']:\n",
    "    for h in [50, 100, 200]:\n",
    "        for d in [0.1, 0.2, 0.3]:\n",
    "            print(f\"Data augmentation style: {s}\")\n",
    "            print(f\"Hidden dim: {h}\")\n",
    "            print(f\"Dropout: {d}\")\n",
    "            aug_train_data = balance_data(wordentail_data['word_disjoint']['train'], style=s)\n",
    "\n",
    "            ## Maybe don't want to do this b/c we won't generalize to the test data in the same way...\n",
    "        #     aug_dev_data = balance_data(wordentail_data['word_disjoint']['dev'], style=s)\n",
    "\n",
    "            bake_mod = TorchDeepNeuralClassifier(hidden_dim=h, max_iter=200, dropout_prob=d)\n",
    "        #     bake_mod = TorchShallowNeuralClassifier(hidden_dim=50, max_iter=100)\n",
    "        #     bake_mod = sklearn.linear_model.LogisticRegression(solver='liblinear')\n",
    "\n",
    "            sample_experiment = nli.wordentail_experiment(\n",
    "                train_data=aug_train_data,\n",
    "                assess_data=wordentail_data['word_disjoint']['dev'], \n",
    "                model=bake_mod, \n",
    "                vector_func=better_glove_vec,\n",
    "                vector_combo_func=hypothesis_only)\n",
    "            \n",
    "            if sample_experiment['macro-F1'] > best_f1:\n",
    "                best_f1 = sample_experiment['macro-F1']\n",
    "                best_s = s\n",
    "                best_hidden = h\n",
    "                best_dropout = d\n",
    "                # This is the object we'll use for bake-off submission\n",
    "                best_experiment = sample_experiment\n",
    "                \n",
    "            print(\"=\" * 80)\n",
    "    \n",
    "print(f\"Best model was hidden={best_hidden}, dropout={best_dropout}, with data augmentation: {best_s} \"\n",
    "      f\"Using those params for the bake off experiment: {best_experiment['macro-F1']}\")\n",
    "    \n",
    "# aug_train_data = balance_data(wordentail_data['word_disjoint']['train'], style=best_s)\n",
    "# bake_mod = TorchDeepNeuralClassifier(hidden_dim=best_hidden, max_iter=200, dropout_prob=best_dropout)\n",
    "# bake_off_experiment = nli.wordentail_experiment(\n",
    "#     train_data=aug_train_data,\n",
    "#     assess_data=wordentail_data['word_disjoint']['dev'], \n",
    "#     model=bake_mod, \n",
    "#     vector_func=better_glove_vec,\n",
    "#     vector_combo_func=concat_elementwise_sum)"
   ]
  },
  {
   "cell_type": "markdown",
   "metadata": {},
   "source": [
    "### Bake-Off Submission Based on Abve\n",
    "Use the variable `best_experiment` to submit to the bake-off. The known params for best performance are:\n",
    "- hidden_dim = 3\n",
    "- dropout=0.3\n",
    "- data augmentation technique: oversample\n",
    "- macro-F1 = 0.689"
   ]
  },
  {
   "cell_type": "code",
   "execution_count": 94,
   "metadata": {},
   "outputs": [
    {
     "name": "stderr",
     "output_type": "stream",
     "text": [
      "Finished epoch 200 of 200; error is 0.07415337534621358"
     ]
    },
    {
     "name": "stdout",
     "output_type": "stream",
     "text": [
      "              precision    recall  f1-score   support\n",
      "\n",
      "           0       0.94      0.85      0.89      1910\n",
      "           1       0.31      0.54      0.39       239\n",
      "\n",
      "   micro avg       0.81      0.81      0.81      2149\n",
      "   macro avg       0.62      0.69      0.64      2149\n",
      "weighted avg       0.87      0.81      0.83      2149\n",
      "\n"
     ]
    }
   ],
   "source": [
    "## Commenting out this BERT model b/c it doesn't do better\n",
    "\n",
    "# aug_train_data = balance_data(wordentail_data['word_disjoint']['train'], style='both')\n",
    "\n",
    "# bake_mod = TorchDeepNeuralClassifier(hidden_dim=50, max_iter=200, dropout_prob=0.1)\n",
    "# bake_off_experiment = nli.wordentail_experiment(\n",
    "#     train_data=aug_train_data,\n",
    "#     assess_data=wordentail_data['word_disjoint']['dev'], \n",
    "#     model=bake_mod, \n",
    "#     vector_func=bert_vec,\n",
    "#     vector_combo_func=vec_concatenate)"
   ]
  },
  {
   "cell_type": "markdown",
   "metadata": {},
   "source": [
    "## Bake-off [1 point]\n",
    "\n",
    "The goal of the bake-off is to achieve the highest macro-average F1 score on __word_disjoint__, on a test set that we will make available at the start of the bake-off on May 6. The announcement will go out on Piazza. To enter, you'll be asked to run `nli.bake_off_evaluation` on the output of your chosen `nli.wordentail_experiment` run. \n",
    "\n",
    "To enter the bake-off, upload this notebook on Canvas:\n",
    "\n",
    "https://canvas.stanford.edu/courses/99711/assignments/187250\n",
    "\n",
    "The cells below this one constitute your bake-off entry.\n",
    "\n",
    "The rules described in the [Your original system](#Your-original-system-[4-points]) homework question are also in effect for the bake-off.\n",
    "\n",
    "Systems that enter will receive the additional homework point, and systems that achieve the top score will receive an additional 0.5 points. We will test the top-performing systems ourselves, and only systems for which we can reproduce the reported results will win the extra 0.5 points.\n",
    "\n",
    "The bake-off will close at 4:30 pm on May 8. Late entries will be accepted, but they cannot earn the extra 0.5 points. Similarly, you cannot win the bake-off unless your homework is submitted on time."
   ]
  },
  {
   "cell_type": "code",
   "execution_count": 119,
   "metadata": {},
   "outputs": [
    {
     "name": "stdout",
     "output_type": "stream",
     "text": [
      "              precision    recall  f1-score   support\n",
      "\n",
      "           0       0.86      0.90      0.88      1767\n",
      "           1       0.52      0.43      0.47       446\n",
      "\n",
      "   micro avg       0.80      0.80      0.80      2213\n",
      "   macro avg       0.69      0.67      0.68      2213\n",
      "weighted avg       0.79      0.80      0.80      2213\n",
      "\n"
     ]
    }
   ],
   "source": [
    "# Enter your bake-off assessment code into this cell. \n",
    "# Please do not remove this comment.\n",
    "test_data_filename = os.path.join(\n",
    "    NLIDATA_HOME,\n",
    "    \"bakeoff4-wordentail-data\",\n",
    "    \"nli_wordentail_bakeoff_data-test.json\")\n",
    "\n",
    "nli.bake_off_evaluation(\n",
    "    best_experiment,\n",
    "    test_data_filename)"
   ]
  },
  {
   "cell_type": "code",
   "execution_count": 24,
   "metadata": {},
   "outputs": [],
   "source": [
    "# On an otherwise blank line in this cell, please enter\n",
    "# your macro-avg f1 value as reported by the code above. \n",
    "# Please enter only a number between 0 and 1 inclusive.\n",
    "# Please do not remove this comment.\n",
    "0.68"
   ]
  }
 ],
 "metadata": {
  "kernelspec": {
   "display_name": "Python 3",
   "language": "python",
   "name": "python3"
  },
  "language_info": {
   "codemirror_mode": {
    "name": "ipython",
    "version": 3
   },
   "file_extension": ".py",
   "mimetype": "text/x-python",
   "name": "python",
   "nbconvert_exporter": "python",
   "pygments_lexer": "ipython3",
   "version": "3.7.3"
  }
 },
 "nbformat": 4,
 "nbformat_minor": 1
}
